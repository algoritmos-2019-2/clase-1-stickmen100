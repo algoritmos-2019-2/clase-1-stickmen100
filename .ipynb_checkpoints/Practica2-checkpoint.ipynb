{
 "cells": [
  {
   "cell_type": "markdown",
   "metadata": {},
   "source": [
    "# Practica 2\n",
    "\n",
    "Vincent T. Pozos Castillo"
   ]
  },
  {
   "cell_type": "markdown",
   "metadata": {},
   "source": []
  },
  {
   "cell_type": "markdown",
   "metadata": {},
   "source": [
    "# Funciones\n",
    "1º Una función es algo que sirve para calcular un valor independientemente del resto del programa, las ventajas serian que se podrian definir muchas funciones en un programa sin afectarse entre ellas, y que los bucles no se romperian de tal manera que no se tenga que cerrar el programa para que siga funcionando.\n",
    "2º Al principio, ya que el programa no tiene el conocimiento de saber que función deseas utilizar.\n",
    "3º El enunciado es \"def nombre_de_la_función(parametros)\"\n",
    "4º Una función es un procedimiento que retorna aun valor y la llamada de función es cuando se ejecuta la función.\n",
    "5º Las variables que residen fuera de toda función son llamadas globales y son visibles desde cualquier parte del programa y las que son creadas en las funciones reciben el nombre de locales y sólo son visibles dentro de la función, pero en si el número de variables que queramos definir dependera de nuestros objetivos.\n",
    "6º Se podria decir que son activadas, y cuando termina la función estas son desactivadas.\n",
    "7º El valor de retorno es cuando nosotros definimos cual sera la respuesta de nuestra función al insertar cierto valor en ella, y si puede ser parte de una expresión ya que podriamos ocupar ese valor de retorno para una función posterior.\n",
    "8º No recibiremos ninguna respuesta de nuestra función.\n",
    "9º Si tenemos una variable local y una global con el mismo nombre, para forzar a la global tendriamos que escribirla como \"global nombre_de_la_función\".\n",
    "10º El tipo de datos none es para dar un valor nulo o no definido aun de alguna variable.\n",
    "11º Proporciona un generador de números o valores aleatorios.\n",
    "12º Se llamaria randint(#1,#2) (#1 y #2 son el rango en los que se encontraran los valores aleatorios)\n",
    "\n",
    "# Lista y tuplas\n",
    "1º Los corchetes son con los que definimos los valores que compondran a nuestra lista.\n",
    "2º Escribiriamos lista[3] = ´hola´.\n",
    "3º Evalua un 16/11.\n",
    "4º Evalua un -4.\n",
    "5º Evalua una lista = [2,4,´hola´]\n",
    "6º Encuentra el lugar donde se puso 'cat' en la lista.\n",
    "7º Agrega esa variable al final de la lista. \n",
    "8º Borra 'cat' de la lista.\n",
    "9º Con el operador suma (+=) y .extend() y para replicarla ´*´.\n",
    "10º append () manda por defecto al final de la lista.\n",
    "Insert() indica el punto donde quieres que inserte.\n",
    "11º Listas: Durante el procesó de la función o programa se ven alteradas las listas y no marca error se pueden ir alterando.\n",
    "Tupplas: Nunca se altera y si se altera genera error, las tupplas son fijas a diferencia de las listas ya están definidas."
   ]
  }
 ],
 "metadata": {
  "kernelspec": {
   "display_name": "Python 3",
   "language": "python",
   "name": "python3"
  },
  "language_info": {
   "codemirror_mode": {
    "name": "ipython",
    "version": 3
   },
   "file_extension": ".py",
   "mimetype": "text/x-python",
   "name": "python",
   "nbconvert_exporter": "python",
   "pygments_lexer": "ipython3",
   "version": "3.7.1"
  }
 },
 "nbformat": 4,
 "nbformat_minor": 2
}
