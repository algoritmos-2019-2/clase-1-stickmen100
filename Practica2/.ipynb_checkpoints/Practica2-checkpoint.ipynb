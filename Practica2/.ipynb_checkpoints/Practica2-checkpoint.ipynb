{
 "cells": [
  {
   "cell_type": "markdown",
   "metadata": {},
   "source": [
    "# Practica 2\n",
    "\n",
    "Vincent T. Pozos Castillo"
   ]
  },
  {
   "cell_type": "markdown",
   "metadata": {},
   "source": []
  },
  {
   "cell_type": "markdown",
   "metadata": {},
   "source": [
    "# Funciones\n",
    "1º Una función es algo que sirve para calcular un valor independientemente del resto del programa, las ventajas serian que se podrian definir muchas funciones en un programa sin afectarse entre ellas, y que los bucles no se romperian de tal manera que no se tenga que cerrar el programa para que siga funcionando.\n",
    "\n",
    "2º Al principio, ya que el programa no tiene el conocimiento de saber que función deseas utilizar.\n",
    "\n",
    "3º El enunciado es \"def nombre_de_la_función(parametros)\"\n",
    "\n",
    "4º Una función es un procedimiento que retorna aun valor y la llamada de función es cuando se ejecuta la función.\n",
    "\n",
    "5º Las variables que residen fuera de toda función son llamadas globales y son visibles desde cualquier parte del programa y las que son creadas en las funciones reciben el nombre de locales y sólo son visibles dentro de la función, pero en si el número de variables que queramos definir dependera de nuestros objetivos.\n",
    "\n",
    "6º Se podria decir que son activadas, y cuando termina la función estas son desactivadas.\n",
    "\n",
    "7º El valor de retorno es cuando nosotros definimos cual sera la respuesta de nuestra función al insertar cierto \n",
    "valor en ella, y si puede ser parte de una expresión ya que podriamos ocupar ese valor de retorno para una función posterior.\n",
    "\n",
    "8º No recibiremos ninguna respuesta de nuestra función.\n",
    "\n",
    "9º Si tenemos una variable local y una global con el mismo nombre, para forzar a la global tendriamos que escribirla como \"global nombre_de_la_función\".\n",
    "\n",
    "10º El tipo de datos none es para dar un valor nulo o no definido aun de alguna variable.\n",
    "\n",
    "11º Proporciona un generador de números o valores aleatorios.\n",
    "\n",
    "12º Se llamaria randint(#1,#2) (#1 y #2 son el rango en los que se encontraran los valores aleatorios)\n",
    "\n",
    "# Lista y tuplas\n",
    "\n",
    "1º Los corchetes son con los que definimos los valores que compondran a nuestra lista.\n",
    "\n",
    "2º Escribiriamos lista[3] = ´hola´.\n",
    "\n",
    "3º Evalua un 16/11.\n",
    "\n",
    "4º Evalua el ultimos termino de la lista , en este caso \"10\".\n",
    "\n",
    "5º Evalua una lista = [2,4,´hola´]\n",
    "\n",
    "6º Encuentra el lugar donde se puso 'cat' en la lista.\n",
    "\n",
    "7º Agrega esa variable al final de la lista. \n",
    "\n",
    "8º Borra 'cat' de la lista.\n",
    "\n",
    "9º Con el operador suma (+=) y .extend() y para replicarla ´*´.\n",
    "\n",
    "10º append () agrega por defecto al final de la lista.\n",
    "Insert() indica el punto donde quieres que inserte.\n",
    "\n",
    "11º Listas: Durante el procesó de la función o programa se ven alteradas las listas y no marca error se pueden ir alterando.\n",
    "Tuplas: Nunca se altera y si se altera genera error, las tupplas son fijas a diferencia de las listas ya están definidas."
   ]
  },
  {
   "cell_type": "code",
   "execution_count": null,
   "metadata": {},
   "outputs": [],
   "source": [
    "def testPrime(n):\n",
    "    while n<2:\n",
    "        return \"El numero no es primo\" \n",
    "    while n==2:\n",
    "        return \"El numero es primo\" \n",
    "    while n>=3:\n",
    "        for a in range (2,n):\n",
    "            if n%a == 0:\n",
    "                return \"El numero no es primo\"\n",
    "            elif n%a != 0 and a == n-1:\n",
    "                return \"El numero es primo\"\n",
    "        \n",
    "    "
   ]
  },
  {
   "cell_type": "code",
   "execution_count": null,
   "metadata": {},
   "outputs": [],
   "source": [
    "testPrime(9)"
   ]
  },
  {
   "cell_type": "code",
   "execution_count": 8,
   "metadata": {},
   "outputs": [],
   "source": [
    "def prime(n):\n",
    "    lista_primos=[]\n",
    "    for m in range (2,n): \n",
    "            for a in range (2,m):\n",
    "                if m%a != 0:\n",
    "                    continue\n",
    "                else:\n",
    "                    break\n",
    "            else:\n",
    "                lista_primos.append(m)\n",
    "    print(lista_primos)\n",
    "                \n",
    "        "
   ]
  },
  {
   "cell_type": "code",
   "execution_count": 9,
   "metadata": {},
   "outputs": [
    {
     "name": "stdout",
     "output_type": "stream",
     "text": [
      "[2, 3, 5, 7, 11, 13, 17, 19, 23, 29, 31, 37, 41, 43, 47, 53, 59, 61, 67, 71, 73, 79, 83, 89, 97, 101, 103, 107, 109, 113, 127, 131, 137, 139, 149, 151, 157, 163, 167, 173, 179, 181, 191, 193, 197, 199, 211, 223, 227, 229, 233, 239, 241, 251, 257, 263, 269, 271, 277, 281, 283, 293, 307, 311, 313, 317, 331, 337, 347, 349, 353, 359, 367, 373, 379, 383, 389, 397, 401, 409, 419, 421, 431, 433, 439, 443, 449, 457, 461, 463, 467, 479, 487, 491, 499, 503, 509, 521, 523, 541, 547, 557, 563, 569, 571, 577, 587, 593, 599, 601, 607, 613, 617, 619, 631, 641, 643, 647, 653, 659, 661, 673, 677, 683, 691, 701, 709, 719, 727, 733, 739, 743, 751, 757, 761, 769, 773, 787, 797, 809, 811, 821, 823, 827, 829, 839, 853, 857, 859, 863, 877, 881, 883, 887]\n"
     ]
    }
   ],
   "source": [
    "prime(900)\n"
   ]
  },
  {
   "cell_type": "code",
   "execution_count": 28,
   "metadata": {},
   "outputs": [],
   "source": [
    "def twinPrime(n):\n",
    "    lista_primos=[]\n",
    "    for m in range (2,n): \n",
    "            for a in range (2,m):\n",
    "                if m%a != 0:\n",
    "                    continue\n",
    "                else:\n",
    "                    break\n",
    "            else:\n",
    "                lista_primos.append(m)\n",
    "    T=[]\n",
    "    for j in range (1,len(lista_primos)-1):\n",
    "        if lista_primos[j+1]-lista_primos[j]==2:\n",
    "            T.append((lista_primos[j],lista_primos[j+1]))\n",
    "    print(T)\n",
    "            \n",
    "    \n",
    "               "
   ]
  },
  {
   "cell_type": "code",
   "execution_count": 29,
   "metadata": {},
   "outputs": [
    {
     "name": "stdout",
     "output_type": "stream",
     "text": [
      "[(3, 5), (5, 7), (11, 13), (17, 19), (29, 31)]\n"
     ]
    }
   ],
   "source": [
    "twinPrime(35)"
   ]
  },
  {
   "cell_type": "code",
   "execution_count": null,
   "metadata": {},
   "outputs": [],
   "source": [
    "def mcm(p,i):\n",
    "    if p > i:\n",
    "        M = p\n",
    "    else:\n",
    "        M = i\n",
    "    while(True):\n",
    "        if((M % p == 0) and (M % i == 0)):\n",
    "            mcm = M\n",
    "            break\n",
    "        M = M+1\n",
    "    return mcm\n",
    "N1=int(input(\"Dar un numero:\"))\n",
    "N2=int(input(\"Dar otro numero: \"))\n",
    "print(\"Minimo comun multiplo entre\", N1, \"y\", N2, \"seria\", mcm(N1,N2))"
   ]
  },
  {
   "cell_type": "code",
   "execution_count": null,
   "metadata": {},
   "outputs": [],
   "source": [
    "def mcd(p,i):\n",
    "    R = 0\n",
    "    while i > 0:\n",
    "        R = i\n",
    "        i = p%i\n",
    "        p = R\n",
    "    return p\n",
    "F1=int(input(\"Dar un numero:\"))\n",
    "F2=int(input(\"Dar otro numero: \"))\n",
    "print(\"Maximo comun divisor entre\", F1, \"y\", F2, \"seria\", mcd(F1,F2))"
   ]
  },
  {
   "cell_type": "code",
   "execution_count": null,
   "metadata": {},
   "outputs": [],
   "source": [
    "def theoremArimethic(n):\n",
    "    L=[]\n",
    "    d=2\n",
    "    while n!=1:\n",
    "        if n%d == 0:\n",
    "            n=n/d  \n",
    "            L.append(d)\n",
    "        else:\n",
    "            d=1+d\n",
    "    print(L)\n",
    "        \n",
    "    "
   ]
  },
  {
   "cell_type": "code",
   "execution_count": null,
   "metadata": {},
   "outputs": [],
   "source": [
    "theoremArimethic(99)"
   ]
  },
  {
   "cell_type": "code",
   "execution_count": null,
   "metadata": {},
   "outputs": [],
   "source": []
  }
 ],
 "metadata": {
  "kernelspec": {
   "display_name": "Python 3",
   "language": "python",
   "name": "python3"
  },
  "language_info": {
   "codemirror_mode": {
    "name": "ipython",
    "version": 3
   },
   "file_extension": ".py",
   "mimetype": "text/x-python",
   "name": "python",
   "nbconvert_exporter": "python",
   "pygments_lexer": "ipython3",
   "version": "3.7.1"
  }
 },
 "nbformat": 4,
 "nbformat_minor": 2
}
